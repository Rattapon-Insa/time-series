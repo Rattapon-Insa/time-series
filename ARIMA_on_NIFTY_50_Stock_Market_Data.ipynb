{
  "nbformat": 4,
  "nbformat_minor": 0,
  "metadata": {
    "colab": {
      "name": "ARIMA on NIFTY-50 Stock Market Data.ipynb",
      "private_outputs": true,
      "provenance": [],
      "collapsed_sections": [],
      "mount_file_id": "1imfY00LQ9DZfA7r2XKacKB_x6KqRL-yb",
      "authorship_tag": "ABX9TyMnSRSE+tWwpOBM2jXYDwBM",
      "include_colab_link": true
    },
    "kernelspec": {
      "name": "python3",
      "display_name": "Python 3"
    },
    "language_info": {
      "name": "python"
    }
  },
  "cells": [
    {
      "cell_type": "markdown",
      "metadata": {
        "id": "view-in-github",
        "colab_type": "text"
      },
      "source": [
        "<a href=\"https://colab.research.google.com/github/Rattapon-Insa/time-series/blob/main/ARIMA_on_NIFTY_50_Stock_Market_Data.ipynb\" target=\"_parent\"><img src=\"https://colab.research.google.com/assets/colab-badge.svg\" alt=\"Open In Colab\"/></a>"
      ]
    },
    {
      "cell_type": "code",
      "source": [
        "! mkdir ~/.kaggle"
      ],
      "metadata": {
        "id": "7vZus0-MhWTD"
      },
      "execution_count": null,
      "outputs": []
    },
    {
      "cell_type": "code",
      "source": [
        "! cp kaggle.json ~/.kaggle/"
      ],
      "metadata": {
        "id": "9KDULBzeh1-o"
      },
      "execution_count": null,
      "outputs": []
    },
    {
      "cell_type": "code",
      "source": [
        "! chmod 600 ~/.kaggle/kaggle.json"
      ],
      "metadata": {
        "id": "jfdXsO6Ph6oT"
      },
      "execution_count": null,
      "outputs": []
    },
    {
      "cell_type": "code",
      "source": [
        "!kaggle datasets download -d rohanrao/nifty50-stock-market-data"
      ],
      "metadata": {
        "id": "rSbl2HqqiJkg"
      },
      "execution_count": null,
      "outputs": []
    },
    {
      "cell_type": "code",
      "source": [
        "! unzip nifty50-stock-market-data.zip"
      ],
      "metadata": {
        "id": "6iOFQq3riLI7"
      },
      "execution_count": null,
      "outputs": []
    },
    {
      "cell_type": "code",
      "source": [
        "import pandas as pd\n",
        "import numpy as np\n",
        "import seaborn as sns\n",
        "import matplotlib.pyplot as plt\n",
        "%matplotlib inline"
      ],
      "metadata": {
        "id": "sm21nwZyiUyd"
      },
      "execution_count": null,
      "outputs": []
    },
    {
      "cell_type": "code",
      "source": [
        "df = pd.read_csv('HCLTECH.csv')"
      ],
      "metadata": {
        "id": "e4jprPT7ilSW"
      },
      "execution_count": null,
      "outputs": []
    },
    {
      "cell_type": "code",
      "source": [
        "df.head(10)"
      ],
      "metadata": {
        "id": "OdDXJaBPiugu"
      },
      "execution_count": null,
      "outputs": []
    },
    {
      "cell_type": "code",
      "source": [
        "df['Date'] =  pd.to_datetime(df['Date'])\n",
        "df.dropna()\n",
        "df.set_index(df['Date'], inplace = True)\n",
        "df = df[['Prev Close']]['2013-01-01':'2013-12-02']\n"
      ],
      "metadata": {
        "id": "vJEqAamwiv5P"
      },
      "execution_count": null,
      "outputs": []
    },
    {
      "cell_type": "markdown",
      "source": [
        "## Visualizing data\n",
        "To apply Arima model on time series data it is very important to check if my data is stationary or not. If the dataset is not stationary we must make it stationary. I will also discuss in details about the tests we perform for making our dataset stationary. \n",
        "\n",
        "Let us visualize first:"
      ],
      "metadata": {
        "id": "dSXn4ExCoTMx"
      }
    },
    {
      "cell_type": "code",
      "source": [
        "plt.figure(figsize= (6,4))\n",
        "plt.plot(df)"
      ],
      "metadata": {
        "id": "B9nOdl_vkZcl"
      },
      "execution_count": null,
      "outputs": []
    },
    {
      "cell_type": "markdown",
      "source": [
        "In the case above dataset doesn’t seem to be stationary. These are the below thumb rules to follow to identify if dataset is stationary or not.\n",
        "\n",
        "Mean Roll Over test:\n",
        "\n",
        "CHECK_1: Verify if rolling mean is constant.\n",
        "\n",
        "CHECK_2: Verify if rolling Standard Deviation is constant\n",
        "\n",
        "CHECK_3: The data must not be inter related with time\n"
      ],
      "metadata": {
        "id": "xFCwAp2ZoeZ8"
      }
    },
    {
      "cell_type": "code",
      "source": [
        "def rolling_plot(df):\n",
        "  rolling_mean = df.rolling(window = 12).mean()\n",
        "  rolling_sd = df.rolling(window = 12).std()\n",
        "  plt.figure(figsize= (10,10))\n",
        "  plt.plot(df, color = 'red', label = 'Raw')\n",
        "  plt.plot(rolling_mean, color = 'blue', label = 'mean')\n",
        "  plt.plot(rolling_sd, color = 'black', label = 'Standard deviation')\n",
        "  plt.legend()"
      ],
      "metadata": {
        "id": "KLVJK2hzktwn"
      },
      "execution_count": null,
      "outputs": []
    },
    {
      "cell_type": "code",
      "source": [
        "rolling_plot(df)"
      ],
      "metadata": {
        "id": "AS6nrVZ9stDw"
      },
      "execution_count": null,
      "outputs": []
    },
    {
      "cell_type": "markdown",
      "source": [
        "## Augmented Dick Fuller Test:\n",
        "\n",
        "This uses P-test and is simple. Just verify if the value of p for your dataset is less than equal to 0.5 or not . It works on hypothesis testing.\n",
        "\n",
        "H0: It suggests the data is not stationary\n",
        "\n",
        "H1: It suggests data is stationary.\n",
        "\n",
        "If value of p≤0.05 then the dataset becomes stationary. In short just remember get the value of P low as much as you could."
      ],
      "metadata": {
        "id": "CNmobhu9p9va"
      }
    },
    {
      "cell_type": "code",
      "source": [
        "from statsmodels.tsa.stattools import adfuller\n",
        "\n",
        "def adfuller_test(df):\n",
        "  data_test = df.iloc[:,0].values\n",
        "  ad1 = adfuller(data_test,autolag = 'AIC')\n",
        "  names = ['adf', 'pvalue', 'used lags', 'nobs', 'critical values']\n",
        "  cnt = 0\n",
        "  for x,y in zip(ad1,names):\n",
        "    print(y, \" is \", x)"
      ],
      "metadata": {
        "id": "-YWmKHVXpiKG"
      },
      "execution_count": null,
      "outputs": []
    },
    {
      "cell_type": "code",
      "source": [
        "adfuller_test(df)"
      ],
      "metadata": {
        "id": "KWOIWmuwszSY"
      },
      "execution_count": null,
      "outputs": []
    },
    {
      "cell_type": "markdown",
      "source": [
        "P value confirm to be higher than 0.05. Rolling mean is obviously not stationary. Transfromation will be needed."
      ],
      "metadata": {
        "id": "deKCnScYs65x"
      }
    },
    {
      "cell_type": "code",
      "source": [
        "df1 = np.log(df)"
      ],
      "metadata": {
        "id": "Scbuu8_5ClM-"
      },
      "execution_count": null,
      "outputs": []
    },
    {
      "cell_type": "code",
      "source": [
        "df_diff = df - df.shift(1)\n",
        "df_diff = df_diff.dropna()"
      ],
      "metadata": {
        "id": "ukWx3TAx_UjA"
      },
      "execution_count": null,
      "outputs": []
    },
    {
      "cell_type": "code",
      "source": [
        "df_diff2= df_diff - df_diff.shift(1)\n",
        "df_diff2 = df_diff2.dropna()"
      ],
      "metadata": {
        "id": "ddBEAR5eARWb"
      },
      "execution_count": null,
      "outputs": []
    },
    {
      "cell_type": "code",
      "source": [
        "from statsmodels.graphics.tsaplots import plot_acf, plot_pacf\n",
        "\n",
        "plt.figure(figsize = (300,100))\n",
        "\n",
        "#Original Data\n",
        "fig, axes = plt.subplots(3,2, sharex= True)\n",
        "axes[0,0].plot(df.values); axes[0,0].set_title('Original')\n",
        "plot_acf(df.values,ax = axes[0,1])\n",
        "\n",
        "#1st differencing\n",
        "axes[1,0].plot(df_diff.values); axes[1,0].set_title('1st differencing')\n",
        "plot_acf(df_diff.values,ax = axes[1,1])\n",
        "\n",
        "#2nd differencing\n",
        "axes[2,0].plot(df_diff2.values); axes[2,0].set_title('2nd differencing')\n",
        "plot_acf(df_diff2.values,ax = axes[2,1])\n",
        "\n",
        "\n",
        "plt.show()"
      ],
      "metadata": {
        "id": "qyOfHp-t9VAo"
      },
      "execution_count": null,
      "outputs": []
    },
    {
      "cell_type": "code",
      "source": [
        "plt.rcParams.update({'figure.figsize':(9,3), 'figure.dpi': 120})\n",
        "\n",
        "fig, axes = plt.subplots(1,2, sharex= True)\n",
        "axes[0].plot(df_diff.values); axes[0].set_title('1st differencing')\n",
        "axes[1].set(xlim=(-1,30))\n",
        "plot_acf(df_diff.values,ax = axes[1])\n",
        "\n",
        "plt.show()"
      ],
      "metadata": {
        "id": "pFWa0C4G-Ozo"
      },
      "execution_count": null,
      "outputs": []
    },
    {
      "cell_type": "code",
      "source": [
        "plt.rcParams.update({'figure.figsize':(9,3), 'figure.dpi': 120})\n",
        "\n",
        "fig, axes = plt.subplots(1,2, sharex= True)\n",
        "axes[0].plot(df_diff.values); axes[0].set_title('1st differencing')\n",
        "axes[1].set(xlim=(-1,30))\n",
        "plot_pacf(df_diff.values,ax = axes[1])\n",
        "\n",
        "plt.show()"
      ],
      "metadata": {
        "id": "GzkYTpUmCgpl"
      },
      "execution_count": null,
      "outputs": []
    },
    {
      "cell_type": "code",
      "source": [
        "from statsmodels.tsa.arima_model import ARIMA\n",
        "\n",
        "## 1,1,0 ARIMA model\n",
        "\n",
        "model = ARIMA(df.values, order = (1,1,0))\n",
        "model_fit = model.fit(disp = 0)\n",
        "print(model_fit.summary())"
      ],
      "metadata": {
        "id": "JxGJ0TnQDmL5"
      },
      "execution_count": null,
      "outputs": []
    },
    {
      "cell_type": "code",
      "source": [
        "# plot residual errors\n",
        "\n",
        "residuals = pd.DataFrame(model_fit.resid)\n",
        "fig, ax = plt.subplots(1,2)\n",
        "residuals.plot(title = 'Residual', ax = ax[0])\n",
        "residuals.plot(kind = 'kde', title = 'Density', ax = ax[1])\n",
        "\n",
        "plt.show()"
      ],
      "metadata": {
        "id": "bz7KMb9PETzD"
      },
      "execution_count": null,
      "outputs": []
    },
    {
      "cell_type": "code",
      "source": [
        "# Actual vs Fitted\n",
        "\n",
        "model_fit.plot_predict(dynamic = False)\n",
        "plt.show()"
      ],
      "metadata": {
        "id": "PPtnpBtZFf4Y"
      },
      "execution_count": null,
      "outputs": []
    },
    {
      "cell_type": "code",
      "source": [
        ""
      ],
      "metadata": {
        "id": "1IyLRcQ9FysE"
      },
      "execution_count": null,
      "outputs": []
    }
  ]
}