{
  "nbformat": 4,
  "nbformat_minor": 0,
  "metadata": {
    "colab": {
      "name": "Multivariate Time series on NIFTY-50 Stock Market Data.ipynb",
      "private_outputs": true,
      "provenance": [],
      "collapsed_sections": [],
      "authorship_tag": "ABX9TyObTxWjVg7mUgaJlXCaWZsa",
      "include_colab_link": true
    },
    "kernelspec": {
      "name": "python3",
      "display_name": "Python 3"
    },
    "language_info": {
      "name": "python"
    }
  },
  "cells": [
    {
      "cell_type": "markdown",
      "metadata": {
        "id": "view-in-github",
        "colab_type": "text"
      },
      "source": [
        "<a href=\"https://colab.research.google.com/github/Rattapon-Insa/time-series/blob/main/Multivariate_Time_series_on_NIFTY_50_Stock_Market_Data.ipynb\" target=\"_parent\"><img src=\"https://colab.research.google.com/assets/colab-badge.svg\" alt=\"Open In Colab\"/></a>"
      ]
    },
    {
      "cell_type": "code",
      "execution_count": null,
      "metadata": {
        "id": "kreOgJxrI71K"
      },
      "outputs": [],
      "source": [
        "! mkdir ~/.kaggle"
      ]
    },
    {
      "cell_type": "code",
      "source": [
        "! cp kaggle.json ~/.kaggle/"
      ],
      "metadata": {
        "id": "iT07I3ABJDW2"
      },
      "execution_count": null,
      "outputs": []
    },
    {
      "cell_type": "code",
      "source": [
        "! chmod 600 ~/.kaggle/kaggle.json"
      ],
      "metadata": {
        "id": "B9D5YHbBJFAj"
      },
      "execution_count": null,
      "outputs": []
    },
    {
      "cell_type": "code",
      "source": [
        "!kaggle datasets download -d rohanrao/nifty50-stock-market-data"
      ],
      "metadata": {
        "id": "hBcV4O--JGrE"
      },
      "execution_count": null,
      "outputs": []
    },
    {
      "cell_type": "code",
      "source": [
        "! unzip nifty50-stock-market-data.zip"
      ],
      "metadata": {
        "id": "H6PFA1BZJIZz"
      },
      "execution_count": null,
      "outputs": []
    },
    {
      "cell_type": "code",
      "source": [
        "import pandas as pd\n",
        "import numpy as np\n",
        "import seaborn as sns\n",
        "import matplotlib.pyplot as plt\n",
        "%matplotlib inline"
      ],
      "metadata": {
        "id": "9jasIQI6JMb1"
      },
      "execution_count": null,
      "outputs": []
    },
    {
      "cell_type": "code",
      "source": [
        "df = pd.read_csv('HCLTECH.csv')"
      ],
      "metadata": {
        "id": "ER50xmXYJOch"
      },
      "execution_count": null,
      "outputs": []
    },
    {
      "cell_type": "code",
      "source": [
        "df['Date'] =  pd.to_datetime(df['Date'])\n",
        "df.dropna()\n",
        "df.set_index(df['Date'], inplace = True)"
      ],
      "metadata": {
        "id": "CTeNWhbJJQ9u"
      },
      "execution_count": null,
      "outputs": []
    },
    {
      "cell_type": "code",
      "source": [
        "df2 = df[['Open','High','Low','Close']]['2013-01-01':'2013-12-02']"
      ],
      "metadata": {
        "id": "Q9QP0euMPXAV"
      },
      "execution_count": null,
      "outputs": []
    },
    {
      "cell_type": "code",
      "source": [
        "from sklearn.preprocessing import StandardScaler\n",
        "sc = StandardScaler()\n",
        "\n",
        "df2_traing_scaled = sc.fit_transform(df2)\n"
      ],
      "metadata": {
        "id": "uAaYsj9znr_-"
      },
      "execution_count": null,
      "outputs": []
    },
    {
      "cell_type": "code",
      "source": [
        "sc2 = StandardScaler()\n",
        "df2_traing_scaled_y = sc2.fit_transform(df2[['Open']])\n",
        "df2_traing_scaled_y"
      ],
      "metadata": {
        "id": "TrvKhOdToHnC"
      },
      "execution_count": null,
      "outputs": []
    },
    {
      "cell_type": "code",
      "source": [
        "df2_traing_scaled.shape"
      ],
      "metadata": {
        "id": "9CXI-rxupytr"
      },
      "execution_count": null,
      "outputs": []
    },
    {
      "cell_type": "code",
      "source": [
        "hops = 10\n",
        "total_record = df2_traing_scaled.shape[0]\n",
        "X = []\n",
        "Y = []\n",
        "for i in range(hops, total_record):\n",
        "  X.append(df2_traing_scaled[i-hops:i])\n",
        "  Y.append(df2_traing_scaled_y[i][0])\n",
        "X, Y = np.array(X), np.array(Y)"
      ],
      "metadata": {
        "id": "klo1TzPVp9Lp"
      },
      "execution_count": null,
      "outputs": []
    },
    {
      "cell_type": "code",
      "source": [
        "X.shape"
      ],
      "metadata": {
        "id": "WOa0-bSmYH9d"
      },
      "execution_count": null,
      "outputs": []
    },
    {
      "cell_type": "code",
      "source": [
        "Y.shape"
      ],
      "metadata": {
        "id": "k68MsWb0Y4ey"
      },
      "execution_count": null,
      "outputs": []
    },
    {
      "cell_type": "code",
      "source": [
        "X_shaped = np.reshape(X,(X.shape[0], X.shape[1], X.shape[2]))\n",
        "X_shaped.shape"
      ],
      "metadata": {
        "id": "XOL2yazkY6Ce"
      },
      "execution_count": null,
      "outputs": []
    },
    {
      "cell_type": "code",
      "source": [
        "from keras.models import Sequential\n",
        "from keras.layers import Dense, LSTM, Dropout\n",
        "\n",
        "model = Sequential()\n",
        "model.add(LSTM(units = 50, return_sequences= True,\n",
        "               input_shape = (hops,4))) # 4 come from 4 features\n",
        "model.add(Dropout(0.2))\n",
        "model.add(LSTM(units = 50))\n",
        "model.add(Dropout(0.2))\n",
        "model.add(Dense(1))\n",
        "model.compile(optimizer = 'adam', loss = 'mean_squared_error', metrics = 'mae')"
      ],
      "metadata": {
        "id": "4M4_VWIQaGUa"
      },
      "execution_count": null,
      "outputs": []
    },
    {
      "cell_type": "code",
      "source": [
        "model.fit(X_shaped, Y, epochs= 100, batch_size = 32)"
      ],
      "metadata": {
        "id": "HxvX4fzicMcN"
      },
      "execution_count": null,
      "outputs": []
    },
    {
      "cell_type": "code",
      "source": [
        ""
      ],
      "metadata": {
        "id": "eEgkAul6eP2k"
      },
      "execution_count": null,
      "outputs": []
    }
  ]
}