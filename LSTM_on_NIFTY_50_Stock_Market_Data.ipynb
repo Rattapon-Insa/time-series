{
  "nbformat": 4,
  "nbformat_minor": 0,
  "metadata": {
    "colab": {
      "name": "LSTM on NIFTY-50 Stock Market Data.ipynb",
      "private_outputs": true,
      "provenance": [],
      "collapsed_sections": [],
      "authorship_tag": "ABX9TyOricykVzjuNu38GKs+585o",
      "include_colab_link": true
    },
    "kernelspec": {
      "name": "python3",
      "display_name": "Python 3"
    },
    "language_info": {
      "name": "python"
    }
  },
  "cells": [
    {
      "cell_type": "markdown",
      "metadata": {
        "id": "view-in-github",
        "colab_type": "text"
      },
      "source": [
        "<a href=\"https://colab.research.google.com/github/Rattapon-Insa/time-series/blob/main/LSTM_on_NIFTY_50_Stock_Market_Data.ipynb\" target=\"_parent\"><img src=\"https://colab.research.google.com/assets/colab-badge.svg\" alt=\"Open In Colab\"/></a>"
      ]
    },
    {
      "cell_type": "code",
      "execution_count": null,
      "metadata": {
        "id": "kreOgJxrI71K"
      },
      "outputs": [],
      "source": [
        "! mkdir ~/.kaggle"
      ]
    },
    {
      "cell_type": "code",
      "source": [
        "! cp kaggle.json ~/.kaggle/"
      ],
      "metadata": {
        "id": "iT07I3ABJDW2"
      },
      "execution_count": null,
      "outputs": []
    },
    {
      "cell_type": "code",
      "source": [
        "! chmod 600 ~/.kaggle/kaggle.json"
      ],
      "metadata": {
        "id": "B9D5YHbBJFAj"
      },
      "execution_count": null,
      "outputs": []
    },
    {
      "cell_type": "code",
      "source": [
        "!kaggle datasets download -d rohanrao/nifty50-stock-market-data"
      ],
      "metadata": {
        "id": "hBcV4O--JGrE"
      },
      "execution_count": null,
      "outputs": []
    },
    {
      "cell_type": "code",
      "source": [
        "! unzip nifty50-stock-market-data.zip"
      ],
      "metadata": {
        "id": "H6PFA1BZJIZz"
      },
      "execution_count": null,
      "outputs": []
    },
    {
      "cell_type": "code",
      "source": [
        "import pandas as pd\n",
        "import numpy as np\n",
        "import seaborn as sns\n",
        "import matplotlib.pyplot as plt\n",
        "%matplotlib inline"
      ],
      "metadata": {
        "id": "9jasIQI6JMb1"
      },
      "execution_count": null,
      "outputs": []
    },
    {
      "cell_type": "code",
      "source": [
        "df = pd.read_csv('HCLTECH.csv')"
      ],
      "metadata": {
        "id": "ER50xmXYJOch"
      },
      "execution_count": null,
      "outputs": []
    },
    {
      "cell_type": "code",
      "source": [
        "df['Date'] =  pd.to_datetime(df['Date'])\n",
        "df.dropna()\n",
        "df.set_index(df['Date'], inplace = True)\n",
        "df = df[['Prev Close']]['2013-01-01':'2013-12-02']"
      ],
      "metadata": {
        "id": "CTeNWhbJJQ9u"
      },
      "execution_count": null,
      "outputs": []
    },
    {
      "cell_type": "code",
      "source": [
        "df1 = df"
      ],
      "metadata": {
        "id": "Q9QP0euMPXAV"
      },
      "execution_count": null,
      "outputs": []
    },
    {
      "cell_type": "code",
      "source": [
        "from sklearn.preprocessing import MinMaxScaler\n",
        "\n",
        "sc = MinMaxScaler(feature_range= (0,1))\n",
        "df1_scaled_train = sc.fit_transform(df1)"
      ],
      "metadata": {
        "id": "bg_qk_jZPAoR"
      },
      "execution_count": null,
      "outputs": []
    },
    {
      "cell_type": "code",
      "source": [
        "df1_scaled_train.shape[0]"
      ],
      "metadata": {
        "id": "jCZ3M5OoPqEt"
      },
      "execution_count": null,
      "outputs": []
    },
    {
      "cell_type": "code",
      "source": [
        "# test train split\n",
        "\n",
        "train = df1_scaled_train[:180]\n",
        "validate = df1_scaled_train[180:]\n"
      ],
      "metadata": {
        "id": "UKux-6S3YK9R"
      },
      "execution_count": null,
      "outputs": []
    },
    {
      "cell_type": "code",
      "source": [
        "\"\"\"setup window for training. Since our dataset size is 230, let's set \n",
        "the window to 10% of size as the starting point\"\"\"\n",
        "hops = int(0.1*train.shape[0])\n",
        "total_len = train.shape[0]\n",
        "X= []\n",
        "Y= []\n",
        "\n",
        "for i in range(hops, total_len):\n",
        "  X.append(train[i-hops:i])\n",
        "  Y.append(train[i])\n",
        "\n",
        "X = np.array(X)\n",
        "Y = np.array(Y)"
      ],
      "metadata": {
        "id": "Oty1PnDBQD4P"
      },
      "execution_count": null,
      "outputs": []
    },
    {
      "cell_type": "code",
      "source": [
        "# Build model\n",
        "\n",
        "from keras.models import Sequential\n",
        "from keras.layers import LSTM\n",
        "from keras.layers import Dense\n",
        "from keras.layers import Flatten, Dropout\n",
        "\n",
        "\n",
        "model = Sequential()\n",
        "model.add(LSTM(units = 50, return_sequences= True\n",
        "               , input_shape = (X.shape[1],1)))\n",
        "model.add(Dropout(0.2))\n",
        "model.add(LSTM(units =50))\n",
        "model.add(Dropout(0.2))\n",
        "model.add(Dense(1))\n",
        "model.compile(optimizer = 'adam', loss = 'mean_squared_error')\n"
      ],
      "metadata": {
        "id": "J9ZJXi-1VKZ-"
      },
      "execution_count": null,
      "outputs": []
    },
    {
      "cell_type": "code",
      "source": [
        "model.fit(X,Y, epochs = 100, batch_size = 64)"
      ],
      "metadata": {
        "id": "29-WHqonXKD2"
      },
      "execution_count": null,
      "outputs": []
    },
    {
      "cell_type": "code",
      "source": [
        "X_test = []\n",
        "\n",
        "for i in range(hops, validate.shape[0]):\n",
        "  X_test.append(validate[i-hops:i])\n",
        "\n",
        "X_test = np.array(X_test)"
      ],
      "metadata": {
        "id": "6aCi2eGKZlmV"
      },
      "execution_count": null,
      "outputs": []
    },
    {
      "cell_type": "code",
      "source": [
        "X_test.shape"
      ],
      "metadata": {
        "id": "-nFvhzgWbI0N"
      },
      "execution_count": null,
      "outputs": []
    },
    {
      "cell_type": "code",
      "source": [
        "y_pred = model.predict(X_test)\n",
        "y_pred"
      ],
      "metadata": {
        "id": "clcBlg9margw"
      },
      "execution_count": null,
      "outputs": []
    },
    {
      "cell_type": "code",
      "source": [
        "y_pred = sc.inverse_transform(y_pred)\n",
        "y_pred.shape"
      ],
      "metadata": {
        "id": "RH9cHuCyassA"
      },
      "execution_count": null,
      "outputs": []
    },
    {
      "cell_type": "code",
      "source": [
        "validate = sc.inverse_transform(validate)"
      ],
      "metadata": {
        "id": "RXT8j4Lza9rQ"
      },
      "execution_count": null,
      "outputs": []
    },
    {
      "cell_type": "code",
      "source": [
        "validate = validate[50-32:]"
      ],
      "metadata": {
        "id": "MYQ4hM06be7m"
      },
      "execution_count": null,
      "outputs": []
    },
    {
      "cell_type": "code",
      "source": [
        "plt.plot(y_pred, color = 'red', label = 'Predict')\n",
        "plt.plot(validate, color = 'blue', label = 'Actual')\n",
        "plt.legend()\n",
        "plt.show()"
      ],
      "metadata": {
        "id": "KHC6XEqTcZ-a"
      },
      "execution_count": null,
      "outputs": []
    }
  ]
}