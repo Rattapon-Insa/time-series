{
  "nbformat": 4,
  "nbformat_minor": 0,
  "metadata": {
    "colab": {
      "name": "LSTM on NIFTY-50 Stock Market Data.ipynb",
      "private_outputs": true,
      "provenance": [],
      "authorship_tag": "ABX9TyNE4ii8zoUpiqlNCRdTf/xI",
      "include_colab_link": true
    },
    "kernelspec": {
      "name": "python3",
      "display_name": "Python 3"
    },
    "language_info": {
      "name": "python"
    }
  },
  "cells": [
    {
      "cell_type": "markdown",
      "metadata": {
        "id": "view-in-github",
        "colab_type": "text"
      },
      "source": [
        "<a href=\"https://colab.research.google.com/github/Rattapon-Insa/time-series/blob/main/LSTM_on_NIFTY_50_Stock_Market_Data.ipynb\" target=\"_parent\"><img src=\"https://colab.research.google.com/assets/colab-badge.svg\" alt=\"Open In Colab\"/></a>"
      ]
    },
    {
      "cell_type": "code",
      "execution_count": null,
      "metadata": {
        "id": "kreOgJxrI71K"
      },
      "outputs": [],
      "source": [
        "! mkdir ~/.kaggle"
      ]
    },
    {
      "cell_type": "code",
      "source": [
        "! cp kaggle.json ~/.kaggle/"
      ],
      "metadata": {
        "id": "iT07I3ABJDW2"
      },
      "execution_count": null,
      "outputs": []
    },
    {
      "cell_type": "code",
      "source": [
        "! chmod 600 ~/.kaggle/kaggle.json"
      ],
      "metadata": {
        "id": "B9D5YHbBJFAj"
      },
      "execution_count": null,
      "outputs": []
    },
    {
      "cell_type": "code",
      "source": [
        "!kaggle datasets download -d rohanrao/nifty50-stock-market-data"
      ],
      "metadata": {
        "id": "hBcV4O--JGrE"
      },
      "execution_count": null,
      "outputs": []
    },
    {
      "cell_type": "code",
      "source": [
        "! unzip nifty50-stock-market-data.zip"
      ],
      "metadata": {
        "id": "H6PFA1BZJIZz"
      },
      "execution_count": null,
      "outputs": []
    },
    {
      "cell_type": "code",
      "source": [
        "import pandas as pd\n",
        "import numpy as np\n",
        "import seaborn as sns\n",
        "import matplotlib.pyplot as plt\n",
        "%matplotlib inline"
      ],
      "metadata": {
        "id": "9jasIQI6JMb1"
      },
      "execution_count": null,
      "outputs": []
    },
    {
      "cell_type": "code",
      "source": [
        "df = pd.read_csv('HCLTECH.csv')"
      ],
      "metadata": {
        "id": "ER50xmXYJOch"
      },
      "execution_count": null,
      "outputs": []
    },
    {
      "cell_type": "code",
      "source": [
        "df['Date'] =  pd.to_datetime(df['Date'])\n",
        "df.dropna()\n",
        "df.set_index(df['Date'], inplace = True)\n",
        "df = df[['Prev Close']]['2013-01-01':'2013-12-02']"
      ],
      "metadata": {
        "id": "CTeNWhbJJQ9u"
      },
      "execution_count": null,
      "outputs": []
    },
    {
      "cell_type": "code",
      "source": [
        "# ref index\n",
        "\n",
        "train_size = 210\n",
        "train_in = df[:train_size]\n",
        "test_in = df[train_size:]"
      ],
      "metadata": {
        "id": "pMjZE0vMKFxE"
      },
      "execution_count": null,
      "outputs": []
    },
    {
      "cell_type": "code",
      "source": [
        "max_size = df.values.shape[0]\n",
        "test_slot = max_size-train_size"
      ],
      "metadata": {
        "id": "hjQLOiI7KXsz"
      },
      "execution_count": null,
      "outputs": []
    },
    {
      "cell_type": "code",
      "source": [
        "from statsmodels.tsa.arima_model import ARIMA\n",
        "import pmdarima as pm\n",
        "\n",
        "model = pm.auto_arima(train_in.values, start_p =1,\n",
        "                      start_q = 0,\n",
        "                      test = 'adf', \n",
        "                      max_p =3,\n",
        "                      max_q = 3,\n",
        "                      m = 1,\n",
        "                      d = None,\n",
        "                      seasonal = False,\n",
        "                      start_P = 0,\n",
        "                      D = 0,\n",
        "                      trace = True,\n",
        "                      error_action = 'ignore',\n",
        "                      suppress_warnings = True,\n",
        "                      stepwise = True) \n",
        "\n",
        "print(model.summary())"
      ],
      "metadata": {
        "id": "HTelQVd2Jipe"
      },
      "execution_count": null,
      "outputs": []
    },
    {
      "cell_type": "code",
      "source": [
        "model.plot_diagnostics(figsize = (7,5))\n",
        "plt.show()"
      ],
      "metadata": {
        "id": "6r_qYyk5Kjbr"
      },
      "execution_count": null,
      "outputs": []
    },
    {
      "cell_type": "code",
      "source": [
        "# forecast\n",
        "fc, conf = model.predict(test_slot, return_conf_int = True)\n",
        "\n",
        "# Make a series\n",
        "fc_series = pd.Series(fc, index = test_in.index)\n",
        "lower_series = pd.Series(conf[:,0], index = test_in.index)\n",
        "upper_series = pd.Series(conf[:, 1], index = test_in.index)"
      ],
      "metadata": {
        "id": "u_H2lqjzJ9U9"
      },
      "execution_count": null,
      "outputs": []
    },
    {
      "cell_type": "code",
      "source": [
        "# plot\n",
        "\n",
        "plt.figure(figsize = (12,5), dpi = 100)\n",
        "plt.plot(train_in, label = 'Training')\n",
        "plt.plot(test_in, label = 'Actual')\n",
        "plt.plot(fc_series, label = 'forecast')\n",
        "plt.fill_between(lower_series.index, lower_series, upper_series\n",
        "                 , color = 'k', alpha = 0.15)\n",
        "\n",
        "plt.title('Forecast vs Actual')\n",
        "plt.legend()"
      ],
      "metadata": {
        "id": "CmUjDXwbKbts"
      },
      "execution_count": null,
      "outputs": []
    },
    {
      "cell_type": "code",
      "source": [
        ""
      ],
      "metadata": {
        "id": "X-n8jx0bLfy7"
      },
      "execution_count": null,
      "outputs": []
    }
  ]
}